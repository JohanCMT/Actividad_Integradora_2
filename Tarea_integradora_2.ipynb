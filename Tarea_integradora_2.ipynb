{
 "cells": [
  {
   "cell_type": "code",
   "execution_count": 43,
   "metadata": {},
   "outputs": [],
   "source": [
    "# Importamos librerías\n",
    "from selenium import webdriver\n",
    "from selenium.webdriver.common.keys import Keys"
   ]
  },
  {
   "cell_type": "code",
   "execution_count": 44,
   "metadata": {},
   "outputs": [
    {
     "name": "stdout",
     "output_type": "stream",
     "text": [
      "¿Qué deseas descargar?cat\n"
     ]
    }
   ],
   "source": [
    "# El usuario introduce la palabra a buscar \n",
    "buscar = input(\"¿Qué deseas descargar?\")\n",
    "driver = webdriver.Chrome()"
   ]
  },
  {
   "cell_type": "code",
   "execution_count": 45,
   "metadata": {},
   "outputs": [
    {
     "name": "stdout",
     "output_type": "stream",
     "text": [
      "{'n02124075', 'n02123159', 'n02123394', 'n02509815', 'n02497673', 'n02123045', 'n02123597'}\n"
     ]
    }
   ],
   "source": [
    "# Se busca en imageNet el objeto\n",
    "driver.get(f\"http://image-net.org/search?q={buscar}\")\n",
    "# Se obtiene el path para extraer el ID con la herramienta inspeccionar elementos\n",
    "elements = driver.find_elements_by_tag_name('table tbody tr td table tbody tr td a')\n",
    "setSynsets = set([])\n",
    "# Se obtiene solo el ID\n",
    "for e in elements:\n",
    "    url = e.get_attribute('href')\n",
    "    if (len(url) == 42):\n",
    "        setSynsets.add(url[-9:])"
   ]
  },
  {
   "cell_type": "code",
   "execution_count": 46,
   "metadata": {},
   "outputs": [],
   "source": [
    "import numpy as np\n",
    "import urllib.request\n",
    "import cv2\n",
    "#Con el url se descarga la imagen correspondiente. \n",
    "def url_to_image(url):\n",
    "    try:\n",
    "        resp = urllib.request.urlopen(url)\n",
    "        image = np.asarray(bytearray(resp.read()), dtype=\"uint8\")\n",
    "        image = cv2.imdecode(image, cv2.IMREAD_COLOR)\n",
    "        return image\n",
    "    except:\n",
    "        return None"
   ]
  },
  {
   "cell_type": "code",
   "execution_count": 47,
   "metadata": {
    "scrolled": true
   },
   "outputs": [
    {
     "name": "stdout",
     "output_type": "stream",
     "text": [
      "10673\n",
      "1\n",
      "2\n",
      "3\n",
      "4\n",
      "5\n",
      "6\n",
      "7\n",
      "8\n",
      "9\n",
      "10\n",
      "11\n",
      "12\n",
      "13\n",
      "14\n",
      "15\n",
      "16\n",
      "17\n",
      "18\n",
      "19\n",
      "20\n",
      "21\n",
      "22\n",
      "23\n",
      "24\n",
      "25\n",
      "26\n",
      "27\n",
      "28\n",
      "29\n",
      "30\n",
      "31\n",
      "32\n",
      "33\n",
      "34\n",
      "35\n",
      "36\n",
      "37\n",
      "38\n",
      "39\n",
      "40\n",
      "41\n",
      "42\n",
      "43\n",
      "44\n",
      "45\n",
      "46\n",
      "47\n",
      "48\n",
      "49\n",
      "50\n",
      "51\n",
      "52\n",
      "53\n",
      "54\n",
      "55\n",
      "56\n",
      "57\n",
      "58\n",
      "59\n",
      "60\n",
      "61\n",
      "62\n",
      "63\n",
      "64\n",
      "65\n",
      "66\n",
      "67\n",
      "68\n",
      "69\n",
      "70\n",
      "71\n",
      "72\n",
      "73\n",
      "74\n",
      "75\n",
      "76\n",
      "77\n",
      "78\n",
      "79\n",
      "80\n",
      "81\n",
      "82\n",
      "83\n",
      "84\n",
      "85\n",
      "86\n",
      "87\n",
      "88\n",
      "89\n",
      "90\n",
      "91\n",
      "92\n",
      "93\n",
      "94\n",
      "95\n",
      "96\n",
      "97\n",
      "98\n",
      "99\n",
      "100\n",
      "100\n"
     ]
    }
   ],
   "source": [
    "imagenes = []\n",
    "# Maxima cantidad de imagenes a descargar.\n",
    "max_imag = 100\n",
    "\n",
    "for synset in setSynsets:\n",
    "    driver.get(f\"http://www.image-net.org/api/text/imagenet.synset.geturls?wnid={synset}\")\n",
    "    links = driver.find_element_by_tag_name('pre').text.split('\\n')\n",
    "    imagenes.extend(links)\n",
    "imagenes_conv = []\n",
    "cont = 0\n",
    "\n",
    "# Por cada imagen encontrada se descarga.\n",
    "for imagen in imagenes:\n",
    "    conv = url_to_image(imagen)\n",
    "    # Se pudo obtener la imagen correctamente.\n",
    "    if (conv is not None):\n",
    "        imagenes_conv.append(conv)\n",
    "        cont = cont + 1\n",
    "    # Se llegó al maximo de imagenes a descargar.\n",
    "    if (cont == max_imag):\n",
    "        break\n"
   ]
  },
  {
   "cell_type": "code",
   "execution_count": 48,
   "metadata": {},
   "outputs": [],
   "source": [
    "import os\n",
    "# Se obtine el path actual y se crea uno para train y test.\n",
    "path = os.getcwd()\n",
    "train = os.path.join(path,'train',buscar)\n",
    "test = os.path.join(path,'test',buscar)\n",
    "\n",
    "# crear directorios si no existen.\n",
    "if not os.path.isdir(os.path.join(path,'test')):\n",
    "    os.mkdir(os.path.join(path,'test'))\n",
    "    os.mkdir(test)\n",
    "if not os.path.isdir(os.path.join(path,'train')):\n",
    "    os.mkdir(os.path.join(path,'train'))\n",
    "    os.mkdir(train)\n",
    "\n",
    "# Se guardan las imagenes en su carpeta correspondiente.\n",
    "cantidad_train = round(len(imagenes_conv) * .80)\n",
    "index = 0\n",
    "for imagen in imagenes_conv:\n",
    "    if (cantidad_train > index):\n",
    "        cv2.imwrite(os.path.join(train,f'train_{index}.jpg'), imagen)\n",
    "    else:\n",
    "        cv2.imwrite(os.path.join(test,f'test_{index}.jpg'), imagen)\n",
    "    index = index+1\n"
   ]
  },
  {
   "cell_type": "code",
   "execution_count": null,
   "metadata": {},
   "outputs": [],
   "source": []
  }
 ],
 "metadata": {
  "kernelspec": {
   "display_name": "Python 3",
   "language": "python",
   "name": "python3"
  },
  "language_info": {
   "codemirror_mode": {
    "name": "ipython",
    "version": 3
   },
   "file_extension": ".py",
   "mimetype": "text/x-python",
   "name": "python",
   "nbconvert_exporter": "python",
   "pygments_lexer": "ipython3",
   "version": "3.8.3"
  }
 },
 "nbformat": 4,
 "nbformat_minor": 4
}
